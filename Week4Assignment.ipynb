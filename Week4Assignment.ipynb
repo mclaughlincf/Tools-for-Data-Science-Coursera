{
  "metadata": {
    "language_info": {
      "codemirror_mode": {
        "name": "python",
        "version": 3
      },
      "file_extension": ".py",
      "mimetype": "text/x-python",
      "name": "python",
      "nbconvert_exporter": "python",
      "pygments_lexer": "ipython3",
      "version": "3.8"
    },
    "kernelspec": {
      "name": "python",
      "display_name": "Pyolite",
      "language": "python"
    }
  },
  "nbformat_minor": 4,
  "nbformat": 4,
  "cells": [
    {
      "cell_type": "markdown",
      "source": "# My Jupyter Notebook on IBM Watson Studio",
      "metadata": {}
    },
    {
      "cell_type": "markdown",
      "source": "**Colleen McLaughlin**\n\nData Anaylst",
      "metadata": {}
    },
    {
      "cell_type": "markdown",
      "source": "*I am interested in data science because I really enjoy problem solving and I am a very curious person. I also enjoyed all my classes that involved coding in college.*",
      "metadata": {}
    },
    {
      "cell_type": "markdown",
      "source": "### Adding 5+3 and the output should be 8.",
      "metadata": {}
    },
    {
      "cell_type": "code",
      "source": "5+3",
      "metadata": {
        "trusted": true
      },
      "execution_count": 1,
      "outputs": [
        {
          "execution_count": 1,
          "output_type": "execute_result",
          "data": {
            "text/plain": "8"
          },
          "metadata": {}
        }
      ]
    },
    {
      "cell_type": "markdown",
      "source": "|C1|C2|\n|--|--|\n|R1|R1|\n|R2|R2|\n\n* Bullet 1\n* Bullet 2\n* Bullet 3\n\n1. Number 1\n2. Number 2\n3. Number 3\n\n***\nHorizontal Rule\n***\n",
      "metadata": {}
    }
  ]
}